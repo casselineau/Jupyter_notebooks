{
 "cells": [
  {
   "cell_type": "code",
   "id": "initial_id",
   "metadata": {
    "collapsed": true,
    "ExecuteTime": {
     "end_time": "2024-11-08T15:37:43.638971Z",
     "start_time": "2024-11-08T15:37:42.001034Z"
    }
   },
   "source": "%pip install matplotlib numpy ipywidgets",
   "outputs": [
    {
     "name": "stdout",
     "output_type": "stream",
     "text": [
      "Requirement already satisfied: matplotlib in c:\\users\\usuario\\owncloud\\git\\jupyter_notebooks\\venv\\lib\\site-packages (3.9.2)\n",
      "Requirement already satisfied: numpy in c:\\users\\usuario\\owncloud\\git\\jupyter_notebooks\\venv\\lib\\site-packages (2.1.3)\n",
      "Requirement already satisfied: ipywidgets in c:\\users\\usuario\\owncloud\\git\\jupyter_notebooks\\venv\\lib\\site-packages (8.1.5)\n",
      "Requirement already satisfied: contourpy>=1.0.1 in c:\\users\\usuario\\owncloud\\git\\jupyter_notebooks\\venv\\lib\\site-packages (from matplotlib) (1.3.0)\n",
      "Requirement already satisfied: cycler>=0.10 in c:\\users\\usuario\\owncloud\\git\\jupyter_notebooks\\venv\\lib\\site-packages (from matplotlib) (0.12.1)\n",
      "Requirement already satisfied: fonttools>=4.22.0 in c:\\users\\usuario\\owncloud\\git\\jupyter_notebooks\\venv\\lib\\site-packages (from matplotlib) (4.54.1)\n",
      "Requirement already satisfied: kiwisolver>=1.3.1 in c:\\users\\usuario\\owncloud\\git\\jupyter_notebooks\\venv\\lib\\site-packages (from matplotlib) (1.4.7)\n",
      "Requirement already satisfied: packaging>=20.0 in c:\\users\\usuario\\owncloud\\git\\jupyter_notebooks\\venv\\lib\\site-packages (from matplotlib) (24.2)\n",
      "Requirement already satisfied: pillow>=8 in c:\\users\\usuario\\owncloud\\git\\jupyter_notebooks\\venv\\lib\\site-packages (from matplotlib) (11.0.0)\n",
      "Requirement already satisfied: pyparsing>=2.3.1 in c:\\users\\usuario\\owncloud\\git\\jupyter_notebooks\\venv\\lib\\site-packages (from matplotlib) (3.2.0)\n",
      "Requirement already satisfied: python-dateutil>=2.7 in c:\\users\\usuario\\owncloud\\git\\jupyter_notebooks\\venv\\lib\\site-packages (from matplotlib) (2.9.0.post0)\n",
      "Requirement already satisfied: comm>=0.1.3 in c:\\users\\usuario\\owncloud\\git\\jupyter_notebooks\\venv\\lib\\site-packages (from ipywidgets) (0.2.2)\n",
      "Requirement already satisfied: ipython>=6.1.0 in c:\\users\\usuario\\owncloud\\git\\jupyter_notebooks\\venv\\lib\\site-packages (from ipywidgets) (8.29.0)\n",
      "Requirement already satisfied: traitlets>=4.3.1 in c:\\users\\usuario\\owncloud\\git\\jupyter_notebooks\\venv\\lib\\site-packages (from ipywidgets) (5.14.3)\n",
      "Requirement already satisfied: widgetsnbextension~=4.0.12 in c:\\users\\usuario\\owncloud\\git\\jupyter_notebooks\\venv\\lib\\site-packages (from ipywidgets) (4.0.13)\n",
      "Requirement already satisfied: jupyterlab-widgets~=3.0.12 in c:\\users\\usuario\\owncloud\\git\\jupyter_notebooks\\venv\\lib\\site-packages (from ipywidgets) (3.0.13)\n",
      "Requirement already satisfied: decorator in c:\\users\\usuario\\owncloud\\git\\jupyter_notebooks\\venv\\lib\\site-packages (from ipython>=6.1.0->ipywidgets) (5.1.1)\n",
      "Requirement already satisfied: jedi>=0.16 in c:\\users\\usuario\\owncloud\\git\\jupyter_notebooks\\venv\\lib\\site-packages (from ipython>=6.1.0->ipywidgets) (0.19.1)\n",
      "Requirement already satisfied: matplotlib-inline in c:\\users\\usuario\\owncloud\\git\\jupyter_notebooks\\venv\\lib\\site-packages (from ipython>=6.1.0->ipywidgets) (0.1.7)\n",
      "Requirement already satisfied: prompt-toolkit<3.1.0,>=3.0.41 in c:\\users\\usuario\\owncloud\\git\\jupyter_notebooks\\venv\\lib\\site-packages (from ipython>=6.1.0->ipywidgets) (3.0.48)\n",
      "Requirement already satisfied: pygments>=2.4.0 in c:\\users\\usuario\\owncloud\\git\\jupyter_notebooks\\venv\\lib\\site-packages (from ipython>=6.1.0->ipywidgets) (2.18.0)\n",
      "Requirement already satisfied: stack-data in c:\\users\\usuario\\owncloud\\git\\jupyter_notebooks\\venv\\lib\\site-packages (from ipython>=6.1.0->ipywidgets) (0.6.3)\n",
      "Requirement already satisfied: colorama in c:\\users\\usuario\\owncloud\\git\\jupyter_notebooks\\venv\\lib\\site-packages (from ipython>=6.1.0->ipywidgets) (0.4.6)\n",
      "Requirement already satisfied: six>=1.5 in c:\\users\\usuario\\owncloud\\git\\jupyter_notebooks\\venv\\lib\\site-packages (from python-dateutil>=2.7->matplotlib) (1.16.0)\n",
      "Requirement already satisfied: parso<0.9.0,>=0.8.3 in c:\\users\\usuario\\owncloud\\git\\jupyter_notebooks\\venv\\lib\\site-packages (from jedi>=0.16->ipython>=6.1.0->ipywidgets) (0.8.4)\n",
      "Requirement already satisfied: wcwidth in c:\\users\\usuario\\owncloud\\git\\jupyter_notebooks\\venv\\lib\\site-packages (from prompt-toolkit<3.1.0,>=3.0.41->ipython>=6.1.0->ipywidgets) (0.2.13)\n",
      "Requirement already satisfied: executing>=1.2.0 in c:\\users\\usuario\\owncloud\\git\\jupyter_notebooks\\venv\\lib\\site-packages (from stack-data->ipython>=6.1.0->ipywidgets) (2.1.0)\n",
      "Requirement already satisfied: asttokens>=2.1.0 in c:\\users\\usuario\\owncloud\\git\\jupyter_notebooks\\venv\\lib\\site-packages (from stack-data->ipython>=6.1.0->ipywidgets) (2.4.1)\n",
      "Requirement already satisfied: pure-eval in c:\\users\\usuario\\owncloud\\git\\jupyter_notebooks\\venv\\lib\\site-packages (from stack-data->ipython>=6.1.0->ipywidgets) (0.2.3)\n",
      "Note: you may need to restart the kernel to use updated packages.\n"
     ]
    },
    {
     "name": "stderr",
     "output_type": "stream",
     "text": [
      "\n",
      "[notice] A new release of pip is available: 23.2.1 -> 24.3.1\n",
      "[notice] To update, run: python.exe -m pip install --upgrade pip\n"
     ]
    }
   ],
   "execution_count": 4
  },
  {
   "metadata": {
    "ExecuteTime": {
     "end_time": "2024-11-08T15:37:43.652872Z",
     "start_time": "2024-11-08T15:37:43.649131Z"
    }
   },
   "cell_type": "code",
   "source": [
    "from ipywidgets import FloatSlider, interact, IntSlider, Layout\n",
    "import matplotlib.pyplot as plt\n",
    "import numpy as N"
   ],
   "id": "ffc0f197bdb919a2",
   "outputs": [],
   "execution_count": 5
  },
  {
   "metadata": {},
   "cell_type": "markdown",
   "source": [
    "<h1>Dimensionamiento Sistemas de Baja Temperatura</h1>\n",
    "\n",
    "<h2>Generalidades</h2>\n",
    "\n",
    "La producción de ACS la aplicación práctica de la energía solar que mejor se adapta a las características de la misma.\n",
    "Los niveles de temperaturas que son necesarios lograr (entre 40ºC y 50ºC) coinciden con los más apropiados para una buena eficacia del colector.\n",
    "Es una necesidad que debe ser satisfecha durante los doce meses del año la inversión en el sistema solar se rentabilizará más rápidamente que aplicaciones estacionales:\n",
    "- Calefacción en invierno\n",
    "- Calentamiento de piscinas en verano.\n",
    "\n",
    "Caracteristicas tipicas de instalaciones:\n",
    "- Orientación paneles: Sur\n",
    "- Inclinación: ~10° más que la latitud\n",
    "- Menor inclinación favorece captación en verano\n",
    "- Mayor inclinación favorece captación en invierno\n",
    "- Evitar sombras\n",
    "- Proteger del viento\n",
    "\n",
    "<h2>Diseño del sistema</h2>\n",
    "\n",
    "Variables importantes:\n",
    "- Fracción Solar (SF): energía suministrada por el sistema solar sobre la energía total suministrada.\n",
    "\\begin{equation}\n",
    "SF=\\frac{Q_\\mathrm{s}}{Q_\\mathrm{s}+Q_\\mathrm{tot}}\n",
    "\\end{equation}\n",
    "    - ${Q_\\mathrm{tot}}$ demanda energetica total (kWh/año)\n",
    "<br>\n",
    "<br>\n",
    "\\begin{equation}\n",
    "Q_\\mathrm{tot} = Q_\\mathrm{s}+Q_\\mathrm{aux} \n",
    "\\end{equation}\n",
    "    - ${Q_\\mathrm{aux}}$ energía del sistema auxiliar (kWh/año)\n",
    "<br>\n",
    "<br>\n",
    "- Eficiencia del Sistema (SE): energía suministrada por el sistema solar respecto a la radiación solar recibida en la superficie de captación en un año.\n",
    "\\begin{equation}\n",
    "SF=\\frac{Q_\\mathrm{s}}{E_\\mathrm{G}A}\n",
    "\\end{equation}\n",
    "    - $E_\\mathrm{G}$ radiación total anual (kWh/m$2$.año)\n",
    "    - A el area de la installacion (m$^2$)\n",
    "\n",
    "El dimensionado del sistema solar depende de:\n",
    "- Las condiciones climáticas locales (radiación y temperatura)\n",
    "- La fracción solar deseada\n",
    "- El rendimiento de la instalación\n",
    "\n",
    "Objetivos típicos: La energía solar no cubra mas que la demanda en los periodos más bajos (Ejemplo: agua caliente sanitaria en verano)\n",
    "\n",
    "Sistemas con excesivos dimensionados tiene los siguientes problemas:\n",
    "- Largos periodos de estancamiento\n",
    "- Mayor coste\n",
    "- Rendimiento malo \n",
    "\n",
    "<h2>Metodo de diseño</h2>\n",
    "\n",
    "1. Selección del punto de diseño (ubicación geográfica, inclinación del captador, día y hora, radiación y temperatura ambiente)\n",
    "\n",
    "2. Cálculo de la demanda de agua caliente\n",
    "\n",
    "3. Selección de la temperatura de entrada y salida del sistema solar y del fluido de trabajo\n",
    "\n",
    "4. Selección del captador\n",
    "\n",
    "5. Calculo del número de captadores para el día de diseño\n",
    "\n",
    "6. Calculo del volumen de almacenamiento\n",
    " \n",
    "7. Calculo de la energía auxiliar"
   ],
   "id": "a09ec14c93d09415"
  },
  {
   "metadata": {},
   "cell_type": "markdown",
   "source": [
    "<h3>1. Selección del punto de diseño</h3>\n",
    "\n",
    "- Ubicación geográfica: Almería 36.8340° N, 2.4637° W \n",
    "- 21 de Julio mediodía solar: 960 W/m2 y 25ºC\n",
    "- Inclinación: 10º mas de la latitud: 47º\n",
    "\n",
    "<p align=\"center\">\n",
    "    <img src=\"Images_baja\\Almeria_Summer_solstice.png\">\n",
    "</p>\n",
    "\n",
    "\n"
   ],
   "id": "9541d69e8fee6f63"
  },
  {
   "metadata": {},
   "cell_type": "markdown",
   "source": [
    "<h3>2. Cálculo de la demanda</h3>\n",
    "\n",
    "Suponemos demanda de agua caliente para un edificio con 6 pisos con 5 viviendas cada una con 4 persona y consumo medio de agua caliente (50 l/persona.día a 45ºC), más el lavavajillas y la lavadora (dos veces por semana a 50ºC), agua fría a 10°C. La temperatura del almacenamiento es 60ºC.\n",
    "\n",
    "Calor especifico del agua a 1 atm 4.2 Kj/KgK\n",
    "\n",
    "Densidad del agua liquido a 1 atm: 1 Kg/m$^3$"
   ],
   "id": "8429476e4f0804c2"
  },
  {
   "metadata": {
    "ExecuteTime": {
     "end_time": "2024-11-08T15:37:43.690676Z",
     "start_time": "2024-11-08T15:37:43.667592Z"
    }
   },
   "cell_type": "code",
   "source": [
    "# Codigo calculo de demanda\n",
    "style = {'description_width': 'initial'}\n",
    "layout = Layout(width='35%')\n",
    "\n",
    "pisos = IntSlider(min=1, max=10, value=6, step=1, description='Numero de pisos:', style=style, layout=layout)\n",
    "viviendas = IntSlider(min=3, max=10, value=5, step=1, description='Numero de viviendas:', style=style, layout=layout)\n",
    "personas = IntSlider(min=1, max=8, value=4, step=1, description='Numero de personas:', style=style, layout=layout)\n",
    "consumo_persona = FloatSlider(min=30, max=100, value=50, step=0.2, description='Consumo per persona (l):', style=style, layout=layout)\n",
    "temperatura_media = FloatSlider(min=40, max=50, value=45, step=0.1, description='Temperatura media de consumo (ºC):', style=style, layout=layout)\n",
    "lavavajillas_semana = IntSlider(min=1, max=4, value=2, step=1, description='Usos de lavavajillas por semana:', style=style, layout=layout)\n",
    "lavadora_semana = IntSlider(min=1, max=4, value=2, step=1, description='Usos de lavadora por semana:', style=style, layout=layout)\n",
    "temperatura_aparatos = IntSlider(min=30, max=60, step=10, value=50, description='Temperatura de uso de aparatos (ºC):', style=style, layout=layout)\n",
    "temperatura_fria = FloatSlider(min=5, max=20, value=10, step=0.1, description='Temperatura fria de la instalacion (ºC):', style=style, layout=layout)\n",
    "temperatura_almacenamiento = FloatSlider(min=50, max=80, value=60, step=0.1, description='Temperatura del almacenamiento (ºC):', style=style, layout=layout)\n",
    "\n",
    "Cv = 1e3*4.2 # capacidad termica volumetrica en kJ/m3\n",
    "kWh = 1./3.6e3 # KJ\n",
    "\n",
    "def demanda(p, v, n_p, c_p, T_m, lj_s, ld_s, T_ap, T_f, T_a):\n",
    "    q_lj = 20./1000.*Cv*(T_ap-T_f) # energia por lavado lavavajillas en KJ\n",
    "    q_ld = 30./1000.*Cv*(T_ap-T_f) # energia por lavado lavadora en KJ\n",
    "    q_ap_d = (ld_s*q_ld+lj_s*q_lj)/7. # energia aparatos diaria en KJ/d\n",
    "    \n",
    "    q_p_d = c_p/1000.*Cv*(T_m-T_f) # energia por persona diaria en KJ/d\n",
    "    q_tot_v = (q_ap_d + n_p*q_p_d) # energia total de una vivienda diaria en kWh/d\n",
    "    v_tot_v = q_tot_v/(Cv*(T_a-T_f))*1e3 # volumen de almacenamioento por una vivienda a la temperatura de almacenamiento (l/d)\n",
    "    \n",
    "    q_ed = p*v*q_tot_v #energia total del piso diaria en KJ/d\n",
    "    v_ed = q_ed/(Cv*(T_a-T_f))*1e3 # volumen de almacenamioento para el edificio a la temperatura de almacenamiento (l/d)\n",
    "    \n",
    "    print('Energía total diaria para una vivienda: %.3f kWh/d\\nVolumen de agua total diario para una vivienda: %.1f l\\nEnergía total diaria para el edificio: %.1f kWh/d\\nVolumen de agua total diario para el edificio: %.1f l'%(q_tot_v*kWh, v_tot_v, q_ed*kWh, v_ed))\n",
    "    return \n",
    "\n",
    "interact(demanda, p=pisos, v=viviendas, n_p=personas, c_p=consumo_persona, T_m=temperatura_media, lj_s=lavavajillas_semana, ld_s=lavadora_semana, T_ap=temperatura_aparatos, T_f=temperatura_fria, T_a=temperatura_almacenamiento)"
   ],
   "id": "6f4bd8cca5edc12d",
   "outputs": [
    {
     "data": {
      "text/plain": [
       "interactive(children=(IntSlider(value=6, description='Numero de pisos:', layout=Layout(width='35%'), max=10, m…"
      ],
      "application/vnd.jupyter.widget-view+json": {
       "version_major": 2,
       "version_minor": 0,
       "model_id": "190be9ca3ffa43e2a0e4325b18ba7eae"
      }
     },
     "metadata": {},
     "output_type": "display_data"
    },
    {
     "data": {
      "text/plain": [
       "<function __main__.demanda(p, v, n_p, c_p, T_m, lj_s, ld_s, T_ap, T_f, T_a)>"
      ]
     },
     "execution_count": 6,
     "metadata": {},
     "output_type": "execute_result"
    }
   ],
   "execution_count": 6
  },
  {
   "metadata": {},
   "cell_type": "markdown",
   "source": [
    "<h3>3. Selección de la temperatura de entrada y salida del sistema solar y del fluido de trabajo</h3>\n",
    "\n",
    "- T in= 10ºC (temperatura fría)\n",
    "- T out= 60ºC (temperatura requerida en almacenamiento)\n",
    "- Fluido= Agua (+glicol)"
   ],
   "id": "fed677ff2ce5ac4a"
  },
  {
   "metadata": {},
   "cell_type": "markdown",
   "source": [
    "<h3>4. Selección del captador</h3>\n",
    "\n",
    "- Modelo: FP Vitosol 100\n",
    "- Área de apertura: 2.33 m\n",
    "- Ancho: 1.056 m\n",
    "- Costo: 1000 €/m$^2$\n",
    "- Caudal del captador: 0.02 kg/s.m$^2$\n",
    "- Eficiencia: \n",
    "\\begin{equation}\n",
    "\\eta=0.84-3.36\\frac{T_\\mathrm{m}-T_\\mathrm{amb}}{G}-0.013\\frac{(T_\\mathrm{m}-T_\\mathrm{amb})^2}{G}\n",
    "\\end{equation}\n",
    "\n",
    "<p align=\"center\">\n",
    "    <img src=\"Images_baja\\colector.png\" width='265'>\n",
    "    <img src=\"Images_baja\\Colector_corte.png\" width='400'>\n",
    "</p>\n"
   ],
   "id": "cab54a6df8531cc"
  },
  {
   "metadata": {},
   "cell_type": "markdown",
   "source": "<h3>5. Calculo del número de captadores para el día de diseño</h3>",
   "id": "abea6071218cfc08"
  },
  {
   "metadata": {},
   "cell_type": "markdown",
   "source": "<h3>6. Calculo del volumen de almacenamiento</h3>",
   "id": "49b615b9fc3e65"
  },
  {
   "metadata": {},
   "cell_type": "markdown",
   "source": "<h3>7. Calculo de la energía auxiliar</h3>",
   "id": "9a0f564a7d850e55"
  },
  {
   "metadata": {},
   "cell_type": "markdown",
   "source": [
    "<h2>Distancia entre captadores</h2>\n",
    "\n",
    "Se calcula en el mediodia solar para el día del año con menor altura solar: 21 de diciembre (hemisferio norte)/ 21 de julio (hemisferio sur)\n",
    "<p align=\"center\">\n",
    "    <img src=\"Images_baja\\collector_angles.png\">\n",
    "</p>"
   ],
   "id": "6d82bfdcc9e0132e"
  },
  {
   "metadata": {},
   "cell_type": "markdown",
   "source": "",
   "id": "fc0408899c38b8c1"
  },
  {
   "metadata": {
    "ExecuteTime": {
     "end_time": "2024-11-08T15:37:43.701608Z",
     "start_time": "2024-11-08T15:37:43.699469Z"
    }
   },
   "cell_type": "code",
   "source": "",
   "id": "12078e47d1b45e28",
   "outputs": [],
   "execution_count": null
  }
 ],
 "metadata": {
  "kernelspec": {
   "display_name": "Python 3",
   "language": "python",
   "name": "python3"
  },
  "language_info": {
   "codemirror_mode": {
    "name": "ipython",
    "version": 2
   },
   "file_extension": ".py",
   "mimetype": "text/x-python",
   "name": "python",
   "nbconvert_exporter": "python",
   "pygments_lexer": "ipython2",
   "version": "2.7.6"
  }
 },
 "nbformat": 4,
 "nbformat_minor": 5
}
