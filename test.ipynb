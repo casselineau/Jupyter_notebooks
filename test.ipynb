{
 "metadata": {
  "kernelspec": {
   "name": "python3",
   "display_name": "Python 3 (ipykernel)",
   "language": "python"
  },
  "language_info": {
   "codemirror_mode": {
    "name": "python",
    "version": 3
   },
   "file_extension": ".py",
   "mimetype": "text/x-python",
   "name": "python",
   "nbconvert_exporter": "python",
   "pygments_lexer": "ipython3",
   "version": "3.8"
  }
 },
 "nbformat_minor": 4,
 "nbformat": 4,
 "cells": [
  {
   "cell_type": "code",
   "source": [
    "%pip3 install numpy, matplotlib, ipywidgets\n",
    "import numpy as N\n",
    "import matplotlib.pyplot as plt\n",
    "from ipywidgets import interact"
   ],
   "metadata": {
    "trusted": true,
    "jupyter": {
     "is_executing": true
    }
   },
   "outputs": [],
   "execution_count": null
  },
  {
   "cell_type": "code",
   "source": [
    "plt.figure(figsize=(8, 4))\n",
    "def interactive_plot(amplitude, frequency):\n",
    "    \n",
    "    x = N.linspace(0, 2 * N.pi, 1000)\n",
    "    y = amplitude * N.sin(frequency * x)\n",
    "    plt.plot(x, y)\n",
    "    plt.grid(True)\n",
    "    plt.xlabel('X-axis')\n",
    "    plt.ylabel('Y-axis')\n",
    "    plt.title('Interactive Sine Wave')\n",
    "    plt.show()\n",
    " \n",
    "interact(interactive_plot, amplitude=(1, 5, 0.1), frequency=(1, 10, 0.1))"
   ],
   "metadata": {
    "trusted": true,
    "ExecuteTime": {
     "end_time": "2024-11-06T10:58:00.611967Z",
     "start_time": "2024-11-06T10:58:00.516478Z"
    }
   },
   "outputs": [
    {
     "data": {
      "text/plain": [
       "<Figure size 800x400 with 0 Axes>"
      ]
     },
     "metadata": {},
     "output_type": "display_data"
    },
    {
     "data": {
      "text/plain": [
       "interactive(children=(FloatSlider(value=3.0, description='amplitude', max=5.0, min=1.0), FloatSlider(value=5.0…"
      ],
      "application/vnd.jupyter.widget-view+json": {
       "version_major": 2,
       "version_minor": 0,
       "model_id": "46d88c2ea450443db0dfc373098b2609"
      }
     },
     "metadata": {},
     "output_type": "display_data"
    },
    {
     "data": {
      "text/plain": [
       "<function __main__.interactive_plot(amplitude, frequency)>"
      ]
     },
     "execution_count": 97,
     "metadata": {},
     "output_type": "execute_result"
    }
   ],
   "execution_count": 97
  },
  {
   "metadata": {
    "ExecuteTime": {
     "end_time": "2024-11-06T10:41:38.853772Z",
     "start_time": "2024-11-06T10:41:38.852766Z"
    }
   },
   "cell_type": "code",
   "source": "",
   "outputs": [],
   "execution_count": null
  },
  {
   "metadata": {
    "ExecuteTime": {
     "end_time": "2024-11-06T10:28:36.671768Z",
     "start_time": "2024-11-06T10:28:36.669484Z"
    }
   },
   "cell_type": "code",
   "source": "",
   "outputs": [],
   "execution_count": 48
  },
  {
   "metadata": {},
   "cell_type": "code",
   "outputs": [],
   "execution_count": null,
   "source": ""
  }
 ]
}
