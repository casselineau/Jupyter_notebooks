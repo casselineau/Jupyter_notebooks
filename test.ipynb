{
 "metadata": {
  "kernelspec": {
   "name": "python3",
   "display_name": "Python 3 (ipykernel)",
   "language": "python"
  },
  "language_info": {
   "codemirror_mode": {
    "name": "python",
    "version": 3
   },
   "file_extension": ".py",
   "mimetype": "text/x-python",
   "name": "python",
   "nbconvert_exporter": "python",
   "pygments_lexer": "ipython3",
   "version": "3.8"
  }
 },
 "nbformat_minor": 4,
 "nbformat": 4,
 "cells": [
  {
   "metadata": {},
   "cell_type": "code",
   "outputs": [],
   "execution_count": null,
   "source": "%pip install numpy matplotlib ipywidgets"
  },
  {
   "metadata": {
    "ExecuteTime": {
     "end_time": "2024-11-06T13:25:10.911619Z",
     "start_time": "2024-11-06T13:25:10.338767Z"
    }
   },
   "cell_type": "code",
   "source": [
    "import numpy as N\n",
    "import matplotlib.pyplot as plt\n",
    "from ipywidgets import interactive, FloatSlider"
   ],
   "outputs": [],
   "execution_count": 1
  },
  {
   "cell_type": "code",
   "source": [
    "plt.figure(figsize=(8, 4))\n",
    "\n",
    "def interactive_plot(amplitude, frequency):\n",
    "    \n",
    "    x = N.linspace(0, 2 * N.pi, 1000)\n",
    "    y = amplitude * N.sin(frequency * x)\n",
    "    plt.plot(x, y)\n",
    "    plt.xlabel('X-axis')\n",
    "    plt.ylabel('Y-axis')\n",
    "    plt.ylim(-3,3)\n",
    "    plt.title('Interactive Sine Wave')\n",
    "    plt.show()\n",
    " \n",
    "interactive_fig = interactive(interactive_plot, amplitude=FloatSlider(min=1, max=5, step=0.1, continuous_update=False), frequency=(1, 10, 0.1))\n",
    "output = interactive_fig.children[-1]\n",
    "output.layout.height = '500px'\n",
    "interactive_fig"
   ],
   "metadata": {
    "trusted": true,
    "ExecuteTime": {
     "end_time": "2024-11-06T13:26:59.271541Z",
     "start_time": "2024-11-06T13:26:59.167033Z"
    }
   },
   "outputs": [
    {
     "data": {
      "text/plain": [
       "<Figure size 800x400 with 0 Axes>"
      ]
     },
     "metadata": {},
     "output_type": "display_data"
    },
    {
     "data": {
      "text/plain": [
       "interactive(children=(FloatSlider(value=1.0, continuous_update=False, description='amplitude', max=5.0, min=1.…"
      ],
      "application/vnd.jupyter.widget-view+json": {
       "version_major": 2,
       "version_minor": 0,
       "model_id": "68a6d8c2a1e6473296f64165a0ee8aec"
      }
     },
     "execution_count": 5,
     "metadata": {},
     "output_type": "execute_result"
    }
   ],
   "execution_count": 5
  },
  {
   "metadata": {
    "ExecuteTime": {
     "end_time": "2024-11-06T10:41:38.853772Z",
     "start_time": "2024-11-06T10:41:38.852766Z"
    }
   },
   "cell_type": "code",
   "source": "",
   "outputs": [],
   "execution_count": null
  },
  {
   "metadata": {
    "ExecuteTime": {
     "end_time": "2024-11-06T10:28:36.671768Z",
     "start_time": "2024-11-06T10:28:36.669484Z"
    }
   },
   "cell_type": "code",
   "source": "",
   "outputs": [],
   "execution_count": 48
  },
  {
   "metadata": {},
   "cell_type": "code",
   "outputs": [],
   "execution_count": null,
   "source": ""
  }
 ]
}
